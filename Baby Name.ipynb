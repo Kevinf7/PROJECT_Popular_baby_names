{
 "cells": [
  {
   "cell_type": "markdown",
   "metadata": {},
   "source": [
    "# Popular Names in South Australia\n",
    "\n",
    "This project explores popular baby names from 1944-2013 in South Australia. The dataset is taken from https://data.sa.gov.au/data/dataset/popular-baby-names"
   ]
  },
  {
   "cell_type": "markdown",
   "metadata": {},
   "source": [
    "### Load in the data\n",
    "There are multiple files, two per year - one for female names and one for male names.<br>\n",
    "We combine all the files into one dataframe.\n",
    "We also add new `gender` and `year` columns."
   ]
  },
  {
   "cell_type": "code",
   "execution_count": 1,
   "metadata": {},
   "outputs": [],
   "source": [
    "import glob, os\n",
    "import numpy as np\n",
    "import pandas as pd\n",
    "import matplotlib.pyplot as plt\n",
    "%matplotlib inline\n",
    "\n",
    "file_list = glob.glob('./data/*.csv') \n",
    "df = pd.DataFrame()\n",
    "\n",
    "for f in file_list:\n",
    "    df_tmp = pd.read_csv(f)\n",
    "    i = f.find('cy')\n",
    "    df_tmp['year'] = f[i+2:i+6]\n",
    "    i = f.find('\\\\')\n",
    "    df_tmp['sex'] = f[i+1]\n",
    "    df = pd.concat([df, df_tmp],ignore_index=True)"
   ]
  },
  {
   "cell_type": "code",
   "execution_count": 2,
   "metadata": {},
   "outputs": [
    {
     "data": {
      "text/html": [
       "<div>\n",
       "<style scoped>\n",
       "    .dataframe tbody tr th:only-of-type {\n",
       "        vertical-align: middle;\n",
       "    }\n",
       "\n",
       "    .dataframe tbody tr th {\n",
       "        vertical-align: top;\n",
       "    }\n",
       "\n",
       "    .dataframe thead th {\n",
       "        text-align: right;\n",
       "    }\n",
       "</style>\n",
       "<table border=\"1\" class=\"dataframe\">\n",
       "  <thead>\n",
       "    <tr style=\"text-align: right;\">\n",
       "      <th></th>\n",
       "      <th>Given Name</th>\n",
       "      <th>Amount</th>\n",
       "      <th>Position</th>\n",
       "      <th>year</th>\n",
       "      <th>sex</th>\n",
       "    </tr>\n",
       "  </thead>\n",
       "  <tbody>\n",
       "    <tr>\n",
       "      <th>0</th>\n",
       "      <td>MARGARET</td>\n",
       "      <td>341</td>\n",
       "      <td>1</td>\n",
       "      <td>1944</td>\n",
       "      <td>f</td>\n",
       "    </tr>\n",
       "    <tr>\n",
       "      <th>1</th>\n",
       "      <td>HELEN</td>\n",
       "      <td>209</td>\n",
       "      <td>2</td>\n",
       "      <td>1944</td>\n",
       "      <td>f</td>\n",
       "    </tr>\n",
       "    <tr>\n",
       "      <th>2</th>\n",
       "      <td>JUDITH</td>\n",
       "      <td>189</td>\n",
       "      <td>3</td>\n",
       "      <td>1944</td>\n",
       "      <td>f</td>\n",
       "    </tr>\n",
       "    <tr>\n",
       "      <th>3</th>\n",
       "      <td>PATRICIA</td>\n",
       "      <td>186</td>\n",
       "      <td>4</td>\n",
       "      <td>1944</td>\n",
       "      <td>f</td>\n",
       "    </tr>\n",
       "    <tr>\n",
       "      <th>4</th>\n",
       "      <td>PAMELA</td>\n",
       "      <td>160</td>\n",
       "      <td>5</td>\n",
       "      <td>1944</td>\n",
       "      <td>f</td>\n",
       "    </tr>\n",
       "  </tbody>\n",
       "</table>\n",
       "</div>"
      ],
      "text/plain": [
       "  Given Name  Amount Position  year sex\n",
       "0   MARGARET     341        1  1944   f\n",
       "1      HELEN     209        2  1944   f\n",
       "2     JUDITH     189        3  1944   f\n",
       "3   PATRICIA     186        4  1944   f\n",
       "4     PAMELA     160        5  1944   f"
      ]
     },
     "execution_count": 2,
     "metadata": {},
     "output_type": "execute_result"
    }
   ],
   "source": [
    "df.head()"
   ]
  },
  {
   "cell_type": "markdown",
   "metadata": {},
   "source": [
    "The `position` column is not needed so we drop it."
   ]
  },
  {
   "cell_type": "code",
   "execution_count": 3,
   "metadata": {
    "scrolled": true
   },
   "outputs": [],
   "source": [
    "df.drop('Position', axis=1, inplace=True)"
   ]
  },
  {
   "cell_type": "code",
   "execution_count": 4,
   "metadata": {},
   "outputs": [
    {
     "data": {
      "text/html": [
       "<div>\n",
       "<style scoped>\n",
       "    .dataframe tbody tr th:only-of-type {\n",
       "        vertical-align: middle;\n",
       "    }\n",
       "\n",
       "    .dataframe tbody tr th {\n",
       "        vertical-align: top;\n",
       "    }\n",
       "\n",
       "    .dataframe thead th {\n",
       "        text-align: right;\n",
       "    }\n",
       "</style>\n",
       "<table border=\"1\" class=\"dataframe\">\n",
       "  <thead>\n",
       "    <tr style=\"text-align: right;\">\n",
       "      <th></th>\n",
       "      <th>Given Name</th>\n",
       "      <th>Amount</th>\n",
       "      <th>year</th>\n",
       "      <th>sex</th>\n",
       "    </tr>\n",
       "  </thead>\n",
       "  <tbody>\n",
       "    <tr>\n",
       "      <th>0</th>\n",
       "      <td>MARGARET</td>\n",
       "      <td>341</td>\n",
       "      <td>1944</td>\n",
       "      <td>f</td>\n",
       "    </tr>\n",
       "    <tr>\n",
       "      <th>1</th>\n",
       "      <td>HELEN</td>\n",
       "      <td>209</td>\n",
       "      <td>1944</td>\n",
       "      <td>f</td>\n",
       "    </tr>\n",
       "    <tr>\n",
       "      <th>2</th>\n",
       "      <td>JUDITH</td>\n",
       "      <td>189</td>\n",
       "      <td>1944</td>\n",
       "      <td>f</td>\n",
       "    </tr>\n",
       "    <tr>\n",
       "      <th>3</th>\n",
       "      <td>PATRICIA</td>\n",
       "      <td>186</td>\n",
       "      <td>1944</td>\n",
       "      <td>f</td>\n",
       "    </tr>\n",
       "    <tr>\n",
       "      <th>4</th>\n",
       "      <td>PAMELA</td>\n",
       "      <td>160</td>\n",
       "      <td>1944</td>\n",
       "      <td>f</td>\n",
       "    </tr>\n",
       "  </tbody>\n",
       "</table>\n",
       "</div>"
      ],
      "text/plain": [
       "  Given Name  Amount  year sex\n",
       "0   MARGARET     341  1944   f\n",
       "1      HELEN     209  1944   f\n",
       "2     JUDITH     189  1944   f\n",
       "3   PATRICIA     186  1944   f\n",
       "4     PAMELA     160  1944   f"
      ]
     },
     "execution_count": 4,
     "metadata": {},
     "output_type": "execute_result"
    }
   ],
   "source": [
    "df.head()"
   ]
  },
  {
   "cell_type": "markdown",
   "metadata": {},
   "source": [
    "### Clean the data\n",
    "First we identify duplicated rows on `Given Name` and `year` and sum the amount, results stored in a series."
   ]
  },
  {
   "cell_type": "code",
   "execution_count": 5,
   "metadata": {},
   "outputs": [],
   "source": [
    "dups = df[df.duplicated(['Given Name','year'],keep=False)].groupby(['Given Name','year']).Amount.sum()"
   ]
  },
  {
   "cell_type": "markdown",
   "metadata": {},
   "source": [
    "Convert the series into a new dataframe."
   ]
  },
  {
   "cell_type": "code",
   "execution_count": 6,
   "metadata": {},
   "outputs": [],
   "source": [
    "df_dup = dups.to_frame()"
   ]
  },
  {
   "cell_type": "code",
   "execution_count": 7,
   "metadata": {},
   "outputs": [
    {
     "data": {
      "text/html": [
       "<div>\n",
       "<style scoped>\n",
       "    .dataframe tbody tr th:only-of-type {\n",
       "        vertical-align: middle;\n",
       "    }\n",
       "\n",
       "    .dataframe tbody tr th {\n",
       "        vertical-align: top;\n",
       "    }\n",
       "\n",
       "    .dataframe thead th {\n",
       "        text-align: right;\n",
       "    }\n",
       "</style>\n",
       "<table border=\"1\" class=\"dataframe\">\n",
       "  <thead>\n",
       "    <tr style=\"text-align: right;\">\n",
       "      <th></th>\n",
       "      <th></th>\n",
       "      <th>Amount</th>\n",
       "    </tr>\n",
       "    <tr>\n",
       "      <th>Given Name</th>\n",
       "      <th>year</th>\n",
       "      <th></th>\n",
       "    </tr>\n",
       "  </thead>\n",
       "  <tbody>\n",
       "    <tr>\n",
       "      <th>(NOT</th>\n",
       "      <th>1968</th>\n",
       "      <td>8</td>\n",
       "    </tr>\n",
       "    <tr>\n",
       "      <th rowspan=\"4\" valign=\"top\">AARON</th>\n",
       "      <th>1963</th>\n",
       "      <td>8</td>\n",
       "    </tr>\n",
       "    <tr>\n",
       "      <th>1966</th>\n",
       "      <td>7</td>\n",
       "    </tr>\n",
       "    <tr>\n",
       "      <th>1968</th>\n",
       "      <td>21</td>\n",
       "    </tr>\n",
       "    <tr>\n",
       "      <th>1969</th>\n",
       "      <td>10</td>\n",
       "    </tr>\n",
       "  </tbody>\n",
       "</table>\n",
       "</div>"
      ],
      "text/plain": [
       "                 Amount\n",
       "Given Name year        \n",
       "(NOT       1968       8\n",
       "AARON      1963       8\n",
       "           1966       7\n",
       "           1968      21\n",
       "           1969      10"
      ]
     },
     "execution_count": 7,
     "metadata": {},
     "output_type": "execute_result"
    }
   ],
   "source": [
    "df_dup.head()"
   ]
  },
  {
   "cell_type": "code",
   "execution_count": 8,
   "metadata": {},
   "outputs": [
    {
     "data": {
      "text/plain": [
       "210939"
      ]
     },
     "execution_count": 8,
     "metadata": {},
     "output_type": "execute_result"
    }
   ],
   "source": [
    "df.shape[0]"
   ]
  },
  {
   "cell_type": "code",
   "execution_count": 9,
   "metadata": {},
   "outputs": [
    {
     "data": {
      "text/plain": [
       "False    193224\n",
       "True      17715\n",
       "dtype: int64"
      ]
     },
     "execution_count": 9,
     "metadata": {},
     "output_type": "execute_result"
    }
   ],
   "source": [
    "df.duplicated(['Given Name','year'],keep=False).value_counts()"
   ]
  },
  {
   "cell_type": "markdown",
   "metadata": {},
   "source": [
    "We drop duplicates in our original dataframe, keeping only one occurrence."
   ]
  },
  {
   "cell_type": "code",
   "execution_count": 10,
   "metadata": {},
   "outputs": [],
   "source": [
    "#drop duplicates keep first occurrence only\n",
    "df.drop_duplicates(['Given Name','year'],inplace=True) "
   ]
  },
  {
   "cell_type": "code",
   "execution_count": 11,
   "metadata": {},
   "outputs": [
    {
     "data": {
      "text/plain": [
       "False    201935\n",
       "dtype: int64"
      ]
     },
     "execution_count": 11,
     "metadata": {},
     "output_type": "execute_result"
    }
   ],
   "source": [
    "df.duplicated(['Given Name','year'],keep=False).value_counts()"
   ]
  },
  {
   "cell_type": "markdown",
   "metadata": {},
   "source": [
    "Convert index into columns so we can easily merge."
   ]
  },
  {
   "cell_type": "code",
   "execution_count": 12,
   "metadata": {},
   "outputs": [
    {
     "data": {
      "text/html": [
       "<div>\n",
       "<style scoped>\n",
       "    .dataframe tbody tr th:only-of-type {\n",
       "        vertical-align: middle;\n",
       "    }\n",
       "\n",
       "    .dataframe tbody tr th {\n",
       "        vertical-align: top;\n",
       "    }\n",
       "\n",
       "    .dataframe thead th {\n",
       "        text-align: right;\n",
       "    }\n",
       "</style>\n",
       "<table border=\"1\" class=\"dataframe\">\n",
       "  <thead>\n",
       "    <tr style=\"text-align: right;\">\n",
       "      <th></th>\n",
       "      <th>Given Name</th>\n",
       "      <th>year</th>\n",
       "      <th>Amount</th>\n",
       "    </tr>\n",
       "  </thead>\n",
       "  <tbody>\n",
       "    <tr>\n",
       "      <th>0</th>\n",
       "      <td>(NOT</td>\n",
       "      <td>1968</td>\n",
       "      <td>8</td>\n",
       "    </tr>\n",
       "    <tr>\n",
       "      <th>1</th>\n",
       "      <td>AARON</td>\n",
       "      <td>1963</td>\n",
       "      <td>8</td>\n",
       "    </tr>\n",
       "    <tr>\n",
       "      <th>2</th>\n",
       "      <td>AARON</td>\n",
       "      <td>1966</td>\n",
       "      <td>7</td>\n",
       "    </tr>\n",
       "    <tr>\n",
       "      <th>3</th>\n",
       "      <td>AARON</td>\n",
       "      <td>1968</td>\n",
       "      <td>21</td>\n",
       "    </tr>\n",
       "    <tr>\n",
       "      <th>4</th>\n",
       "      <td>AARON</td>\n",
       "      <td>1969</td>\n",
       "      <td>10</td>\n",
       "    </tr>\n",
       "  </tbody>\n",
       "</table>\n",
       "</div>"
      ],
      "text/plain": [
       "  Given Name  year  Amount\n",
       "0       (NOT  1968       8\n",
       "1      AARON  1963       8\n",
       "2      AARON  1966       7\n",
       "3      AARON  1968      21\n",
       "4      AARON  1969      10"
      ]
     },
     "execution_count": 12,
     "metadata": {},
     "output_type": "execute_result"
    }
   ],
   "source": [
    "df_dup.reset_index(level=['Given Name', 'year'], inplace=True) #convert index into columns\n",
    "df_dup.head()"
   ]
  },
  {
   "cell_type": "markdown",
   "metadata": {},
   "source": [
    "Merge the new dataframe `Amount` value into our original dataframe using `Given Name` and `year` as the key.<br>\n",
    "This should give us the sum amount in a new column."
   ]
  },
  {
   "cell_type": "code",
   "execution_count": 13,
   "metadata": {
    "scrolled": true
   },
   "outputs": [],
   "source": [
    "df2 = pd.merge(df, df_dup, on=['Given Name','year'], how='left') #like a SQL left join"
   ]
  },
  {
   "cell_type": "code",
   "execution_count": 14,
   "metadata": {},
   "outputs": [
    {
     "data": {
      "text/html": [
       "<div>\n",
       "<style scoped>\n",
       "    .dataframe tbody tr th:only-of-type {\n",
       "        vertical-align: middle;\n",
       "    }\n",
       "\n",
       "    .dataframe tbody tr th {\n",
       "        vertical-align: top;\n",
       "    }\n",
       "\n",
       "    .dataframe thead th {\n",
       "        text-align: right;\n",
       "    }\n",
       "</style>\n",
       "<table border=\"1\" class=\"dataframe\">\n",
       "  <thead>\n",
       "    <tr style=\"text-align: right;\">\n",
       "      <th></th>\n",
       "      <th>Given Name</th>\n",
       "      <th>Amount_x</th>\n",
       "      <th>year</th>\n",
       "      <th>sex</th>\n",
       "      <th>Amount_y</th>\n",
       "    </tr>\n",
       "  </thead>\n",
       "  <tbody>\n",
       "    <tr>\n",
       "      <th>0</th>\n",
       "      <td>MARGARET</td>\n",
       "      <td>341</td>\n",
       "      <td>1944</td>\n",
       "      <td>f</td>\n",
       "      <td>343.0</td>\n",
       "    </tr>\n",
       "    <tr>\n",
       "      <th>1</th>\n",
       "      <td>HELEN</td>\n",
       "      <td>209</td>\n",
       "      <td>1944</td>\n",
       "      <td>f</td>\n",
       "      <td>NaN</td>\n",
       "    </tr>\n",
       "    <tr>\n",
       "      <th>2</th>\n",
       "      <td>JUDITH</td>\n",
       "      <td>189</td>\n",
       "      <td>1944</td>\n",
       "      <td>f</td>\n",
       "      <td>NaN</td>\n",
       "    </tr>\n",
       "    <tr>\n",
       "      <th>3</th>\n",
       "      <td>PATRICIA</td>\n",
       "      <td>186</td>\n",
       "      <td>1944</td>\n",
       "      <td>f</td>\n",
       "      <td>NaN</td>\n",
       "    </tr>\n",
       "    <tr>\n",
       "      <th>4</th>\n",
       "      <td>PAMELA</td>\n",
       "      <td>160</td>\n",
       "      <td>1944</td>\n",
       "      <td>f</td>\n",
       "      <td>NaN</td>\n",
       "    </tr>\n",
       "  </tbody>\n",
       "</table>\n",
       "</div>"
      ],
      "text/plain": [
       "  Given Name  Amount_x  year sex  Amount_y\n",
       "0   MARGARET       341  1944   f     343.0\n",
       "1      HELEN       209  1944   f       NaN\n",
       "2     JUDITH       189  1944   f       NaN\n",
       "3   PATRICIA       186  1944   f       NaN\n",
       "4     PAMELA       160  1944   f       NaN"
      ]
     },
     "execution_count": 14,
     "metadata": {},
     "output_type": "execute_result"
    }
   ],
   "source": [
    "df2.head()"
   ]
  },
  {
   "cell_type": "code",
   "execution_count": 15,
   "metadata": {},
   "outputs": [
    {
     "data": {
      "text/plain": [
       "201935"
      ]
     },
     "execution_count": 15,
     "metadata": {},
     "output_type": "execute_result"
    }
   ],
   "source": [
    "df2.shape[0]"
   ]
  },
  {
   "cell_type": "markdown",
   "metadata": {},
   "source": [
    "We are going to use `Amount_y` as our amount column, so we fill all the NaN with the value from the `Amount_x` column."
   ]
  },
  {
   "cell_type": "code",
   "execution_count": 16,
   "metadata": {},
   "outputs": [],
   "source": [
    "#this is like an if then assign to specific column\n",
    "df2.loc[df2.Amount_y.isnull(), 'Amount_y'] = df2['Amount_x']"
   ]
  },
  {
   "cell_type": "code",
   "execution_count": 17,
   "metadata": {},
   "outputs": [
    {
     "data": {
      "text/html": [
       "<div>\n",
       "<style scoped>\n",
       "    .dataframe tbody tr th:only-of-type {\n",
       "        vertical-align: middle;\n",
       "    }\n",
       "\n",
       "    .dataframe tbody tr th {\n",
       "        vertical-align: top;\n",
       "    }\n",
       "\n",
       "    .dataframe thead th {\n",
       "        text-align: right;\n",
       "    }\n",
       "</style>\n",
       "<table border=\"1\" class=\"dataframe\">\n",
       "  <thead>\n",
       "    <tr style=\"text-align: right;\">\n",
       "      <th></th>\n",
       "      <th>Given Name</th>\n",
       "      <th>Amount_x</th>\n",
       "      <th>year</th>\n",
       "      <th>sex</th>\n",
       "      <th>Amount_y</th>\n",
       "    </tr>\n",
       "  </thead>\n",
       "  <tbody>\n",
       "    <tr>\n",
       "      <th>0</th>\n",
       "      <td>MARGARET</td>\n",
       "      <td>341</td>\n",
       "      <td>1944</td>\n",
       "      <td>f</td>\n",
       "      <td>343.0</td>\n",
       "    </tr>\n",
       "    <tr>\n",
       "      <th>1</th>\n",
       "      <td>HELEN</td>\n",
       "      <td>209</td>\n",
       "      <td>1944</td>\n",
       "      <td>f</td>\n",
       "      <td>209.0</td>\n",
       "    </tr>\n",
       "    <tr>\n",
       "      <th>2</th>\n",
       "      <td>JUDITH</td>\n",
       "      <td>189</td>\n",
       "      <td>1944</td>\n",
       "      <td>f</td>\n",
       "      <td>189.0</td>\n",
       "    </tr>\n",
       "    <tr>\n",
       "      <th>3</th>\n",
       "      <td>PATRICIA</td>\n",
       "      <td>186</td>\n",
       "      <td>1944</td>\n",
       "      <td>f</td>\n",
       "      <td>186.0</td>\n",
       "    </tr>\n",
       "    <tr>\n",
       "      <th>4</th>\n",
       "      <td>PAMELA</td>\n",
       "      <td>160</td>\n",
       "      <td>1944</td>\n",
       "      <td>f</td>\n",
       "      <td>160.0</td>\n",
       "    </tr>\n",
       "  </tbody>\n",
       "</table>\n",
       "</div>"
      ],
      "text/plain": [
       "  Given Name  Amount_x  year sex  Amount_y\n",
       "0   MARGARET       341  1944   f     343.0\n",
       "1      HELEN       209  1944   f     209.0\n",
       "2     JUDITH       189  1944   f     189.0\n",
       "3   PATRICIA       186  1944   f     186.0\n",
       "4     PAMELA       160  1944   f     160.0"
      ]
     },
     "execution_count": 17,
     "metadata": {},
     "output_type": "execute_result"
    }
   ],
   "source": [
    "df2.head()"
   ]
  },
  {
   "cell_type": "markdown",
   "metadata": {},
   "source": [
    "Drop the `Amount_x` column as we don't need it anymore and change the type of `Amount_y` to an integer.<br>\n",
    "We also need to convert `year` to integer as we will use it for both our labels and our index values."
   ]
  },
  {
   "cell_type": "code",
   "execution_count": 18,
   "metadata": {},
   "outputs": [],
   "source": [
    "df2.drop('Amount_x', axis=1, inplace=True)"
   ]
  },
  {
   "cell_type": "code",
   "execution_count": 28,
   "metadata": {},
   "outputs": [
    {
     "data": {
      "text/html": [
       "<div>\n",
       "<style scoped>\n",
       "    .dataframe tbody tr th:only-of-type {\n",
       "        vertical-align: middle;\n",
       "    }\n",
       "\n",
       "    .dataframe tbody tr th {\n",
       "        vertical-align: top;\n",
       "    }\n",
       "\n",
       "    .dataframe thead th {\n",
       "        text-align: right;\n",
       "    }\n",
       "</style>\n",
       "<table border=\"1\" class=\"dataframe\">\n",
       "  <thead>\n",
       "    <tr style=\"text-align: right;\">\n",
       "      <th></th>\n",
       "      <th>Given Name</th>\n",
       "      <th>year</th>\n",
       "      <th>sex</th>\n",
       "      <th>Amount_y</th>\n",
       "    </tr>\n",
       "  </thead>\n",
       "  <tbody>\n",
       "    <tr>\n",
       "      <th>0</th>\n",
       "      <td>MARGARET</td>\n",
       "      <td>1944</td>\n",
       "      <td>f</td>\n",
       "      <td>343</td>\n",
       "    </tr>\n",
       "    <tr>\n",
       "      <th>1</th>\n",
       "      <td>HELEN</td>\n",
       "      <td>1944</td>\n",
       "      <td>f</td>\n",
       "      <td>209</td>\n",
       "    </tr>\n",
       "    <tr>\n",
       "      <th>2</th>\n",
       "      <td>JUDITH</td>\n",
       "      <td>1944</td>\n",
       "      <td>f</td>\n",
       "      <td>189</td>\n",
       "    </tr>\n",
       "    <tr>\n",
       "      <th>3</th>\n",
       "      <td>PATRICIA</td>\n",
       "      <td>1944</td>\n",
       "      <td>f</td>\n",
       "      <td>186</td>\n",
       "    </tr>\n",
       "    <tr>\n",
       "      <th>4</th>\n",
       "      <td>PAMELA</td>\n",
       "      <td>1944</td>\n",
       "      <td>f</td>\n",
       "      <td>160</td>\n",
       "    </tr>\n",
       "  </tbody>\n",
       "</table>\n",
       "</div>"
      ],
      "text/plain": [
       "  Given Name  year sex  Amount_y\n",
       "0   MARGARET  1944   f       343\n",
       "1      HELEN  1944   f       209\n",
       "2     JUDITH  1944   f       189\n",
       "3   PATRICIA  1944   f       186\n",
       "4     PAMELA  1944   f       160"
      ]
     },
     "execution_count": 28,
     "metadata": {},
     "output_type": "execute_result"
    }
   ],
   "source": [
    "df2.Amount_y = df2.Amount_y.astype(int)\n",
    "df2.year = df2.year.astype(int)\n",
    "df2.head()"
   ]
  },
  {
   "cell_type": "markdown",
   "metadata": {},
   "source": [
    "### Plot the graph\n",
    "Get a list of all unique years in `year_label`. This will be used for our x-axis labels and index values."
   ]
  },
  {
   "cell_type": "code",
   "execution_count": 37,
   "metadata": {},
   "outputs": [],
   "source": [
    "all_years = df2.year.unique()\n",
    "#year_index = np.arange(all_years.min(),all_years.max()+1)"
   ]
  },
  {
   "cell_type": "markdown",
   "metadata": {},
   "source": [
    "Prepare the data for plotting<br>\n",
    "Change the names to the name you would like to explore.<br>\n",
    "`max_each_year` will be used to display the most popular name for that year"
   ]
  },
  {
   "cell_type": "code",
   "execution_count": null,
   "metadata": {},
   "outputs": [],
   "source": [
    "#plot takes the index as the x value and uses any numeric column as the y\n",
    "name1 = df2.loc[df2['Given Name']=='ANDREW'].sort_values('year')\n",
    "name2 = df2.loc[df2['Given Name']=='MICHAEL'].sort_values('year')\n",
    "max_each_year = df2.loc[df2.groupby('year').Amount_y.idxmax()]\n",
    "max_each_year.reset_index(drop=True, inplace=True) #reset the index"
   ]
  },
  {
   "cell_type": "markdown",
   "metadata": {},
   "source": [
    "Plot the graph"
   ]
  },
  {
   "cell_type": "code",
   "execution_count": null,
   "metadata": {},
   "outputs": [
    {
     "data": {
      "text/plain": [
       "<matplotlib.legend.Legend at 0x1fb8176c780>"
      ]
     },
     "execution_count": 69,
     "metadata": {},
     "output_type": "execute_result"
    }
   ],
   "source": [
    "fig=plt.figure(figsize=(16,8))\n",
    "ax=fig.add_subplot(1,1,1)\n",
    "\n",
    "ax.plot(name1.year, name1.Amount_y)\n",
    "ax.plot(name2.year, name2.Amount_y)\n",
    "ax.plot(max_each_year.year, max_each_year.Amount_y, '.-')\n",
    "\n",
    "ax.set_xticks(all_years)\n",
    "ax.set_xticklabels(all_years, rotation='vertical')\n",
    "ax.set_xlabel('Year')\n",
    "ax.set_ylabel('Amount')\n",
    "ax.set_title('Baby Names (South Australia)')\n",
    "\n",
    "for i, row in max_each_year.iterrows():\n",
    "    if i%2: #plot every other name because graph is too crowded\n",
    "        ax.text(row.year,row.Amount_y,row['Given Name'])\n",
    "\n",
    "ax.legend(labels=(name1.iloc[0,0], name2.iloc[0,0],'Most popular name for the year'))"
   ]
  },
  {
   "cell_type": "code",
   "execution_count": null,
   "metadata": {},
   "outputs": [],
   "source": []
  }
 ],
 "metadata": {
  "kernelspec": {
   "display_name": "Python [default]",
   "language": "python",
   "name": "python3"
  },
  "language_info": {
   "codemirror_mode": {
    "name": "ipython",
    "version": 3
   },
   "file_extension": ".py",
   "mimetype": "text/x-python",
   "name": "python",
   "nbconvert_exporter": "python",
   "pygments_lexer": "ipython3",
   "version": "3.6.5"
  }
 },
 "nbformat": 4,
 "nbformat_minor": 2
}
