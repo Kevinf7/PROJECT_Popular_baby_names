{
 "cells": [
  {
   "cell_type": "markdown",
   "metadata": {},
   "source": [
    "# Popular Names in South Australia\n",
    "\n",
    "This project explores popular baby names from 1944-2013 in South Australia. The dataset is taken from https://data.sa.gov.au/data/dataset/popular-baby-names"
   ]
  },
  {
   "cell_type": "markdown",
   "metadata": {},
   "source": [
    "### Load in the data\n",
    "There are multiple files, two per year - one for female names and one for male names.<br>\n",
    "We combine all the files into one dataframe.\n",
    "We also add new `gender` and `year` columns."
   ]
  },
  {
   "cell_type": "code",
   "execution_count": 1,
   "metadata": {
    "collapsed": true
   },
   "outputs": [],
   "source": [
    "import glob, os\n",
    "import numpy as np\n",
    "import pandas as pd\n",
    "import matplotlib.pyplot as plt\n",
    "import seaborn as sns\n",
    "%matplotlib inline\n",
    "\n",
    "file_list = glob.glob('./data/*.csv') \n",
    "df = pd.DataFrame()\n",
    "\n",
    "for f in file_list:\n",
    "    df_tmp = pd.read_csv(f)\n",
    "    i = f.find('cy')\n",
    "    df_tmp['year'] = f[i+2:i+6]\n",
    "    i = f.find('\\\\')\n",
    "    df_tmp['sex'] = f[i+1]\n",
    "    df = pd.concat([df, df_tmp],ignore_index=True)"
   ]
  },
  {
   "cell_type": "code",
   "execution_count": 2,
   "metadata": {},
   "outputs": [
    {
     "data": {
      "text/html": [
       "<div>\n",
       "<style>\n",
       "    .dataframe thead tr:only-child th {\n",
       "        text-align: right;\n",
       "    }\n",
       "\n",
       "    .dataframe thead th {\n",
       "        text-align: left;\n",
       "    }\n",
       "\n",
       "    .dataframe tbody tr th {\n",
       "        vertical-align: top;\n",
       "    }\n",
       "</style>\n",
       "<table border=\"1\" class=\"dataframe\">\n",
       "  <thead>\n",
       "    <tr style=\"text-align: right;\">\n",
       "      <th></th>\n",
       "      <th>Given Name</th>\n",
       "      <th>Amount</th>\n",
       "      <th>Position</th>\n",
       "      <th>year</th>\n",
       "      <th>sex</th>\n",
       "    </tr>\n",
       "  </thead>\n",
       "  <tbody>\n",
       "    <tr>\n",
       "      <th>0</th>\n",
       "      <td>MARGARET</td>\n",
       "      <td>341</td>\n",
       "      <td>1</td>\n",
       "      <td>1944</td>\n",
       "      <td>f</td>\n",
       "    </tr>\n",
       "    <tr>\n",
       "      <th>1</th>\n",
       "      <td>HELEN</td>\n",
       "      <td>209</td>\n",
       "      <td>2</td>\n",
       "      <td>1944</td>\n",
       "      <td>f</td>\n",
       "    </tr>\n",
       "    <tr>\n",
       "      <th>2</th>\n",
       "      <td>JUDITH</td>\n",
       "      <td>189</td>\n",
       "      <td>3</td>\n",
       "      <td>1944</td>\n",
       "      <td>f</td>\n",
       "    </tr>\n",
       "    <tr>\n",
       "      <th>3</th>\n",
       "      <td>PATRICIA</td>\n",
       "      <td>186</td>\n",
       "      <td>4</td>\n",
       "      <td>1944</td>\n",
       "      <td>f</td>\n",
       "    </tr>\n",
       "    <tr>\n",
       "      <th>4</th>\n",
       "      <td>PAMELA</td>\n",
       "      <td>160</td>\n",
       "      <td>5</td>\n",
       "      <td>1944</td>\n",
       "      <td>f</td>\n",
       "    </tr>\n",
       "  </tbody>\n",
       "</table>\n",
       "</div>"
      ],
      "text/plain": [
       "  Given Name  Amount Position  year sex\n",
       "0   MARGARET     341        1  1944   f\n",
       "1      HELEN     209        2  1944   f\n",
       "2     JUDITH     189        3  1944   f\n",
       "3   PATRICIA     186        4  1944   f\n",
       "4     PAMELA     160        5  1944   f"
      ]
     },
     "execution_count": 2,
     "metadata": {},
     "output_type": "execute_result"
    }
   ],
   "source": [
    "df.head()"
   ]
  },
  {
   "cell_type": "markdown",
   "metadata": {},
   "source": [
    "The `position` column is not needed so we drop it."
   ]
  },
  {
   "cell_type": "code",
   "execution_count": 3,
   "metadata": {
    "collapsed": true,
    "scrolled": true
   },
   "outputs": [],
   "source": [
    "df.drop('Position', axis=1, inplace=True)"
   ]
  },
  {
   "cell_type": "code",
   "execution_count": 4,
   "metadata": {},
   "outputs": [
    {
     "data": {
      "text/html": [
       "<div>\n",
       "<style>\n",
       "    .dataframe thead tr:only-child th {\n",
       "        text-align: right;\n",
       "    }\n",
       "\n",
       "    .dataframe thead th {\n",
       "        text-align: left;\n",
       "    }\n",
       "\n",
       "    .dataframe tbody tr th {\n",
       "        vertical-align: top;\n",
       "    }\n",
       "</style>\n",
       "<table border=\"1\" class=\"dataframe\">\n",
       "  <thead>\n",
       "    <tr style=\"text-align: right;\">\n",
       "      <th></th>\n",
       "      <th>Given Name</th>\n",
       "      <th>Amount</th>\n",
       "      <th>year</th>\n",
       "      <th>sex</th>\n",
       "    </tr>\n",
       "  </thead>\n",
       "  <tbody>\n",
       "    <tr>\n",
       "      <th>0</th>\n",
       "      <td>MARGARET</td>\n",
       "      <td>341</td>\n",
       "      <td>1944</td>\n",
       "      <td>f</td>\n",
       "    </tr>\n",
       "    <tr>\n",
       "      <th>1</th>\n",
       "      <td>HELEN</td>\n",
       "      <td>209</td>\n",
       "      <td>1944</td>\n",
       "      <td>f</td>\n",
       "    </tr>\n",
       "    <tr>\n",
       "      <th>2</th>\n",
       "      <td>JUDITH</td>\n",
       "      <td>189</td>\n",
       "      <td>1944</td>\n",
       "      <td>f</td>\n",
       "    </tr>\n",
       "    <tr>\n",
       "      <th>3</th>\n",
       "      <td>PATRICIA</td>\n",
       "      <td>186</td>\n",
       "      <td>1944</td>\n",
       "      <td>f</td>\n",
       "    </tr>\n",
       "    <tr>\n",
       "      <th>4</th>\n",
       "      <td>PAMELA</td>\n",
       "      <td>160</td>\n",
       "      <td>1944</td>\n",
       "      <td>f</td>\n",
       "    </tr>\n",
       "  </tbody>\n",
       "</table>\n",
       "</div>"
      ],
      "text/plain": [
       "  Given Name  Amount  year sex\n",
       "0   MARGARET     341  1944   f\n",
       "1      HELEN     209  1944   f\n",
       "2     JUDITH     189  1944   f\n",
       "3   PATRICIA     186  1944   f\n",
       "4     PAMELA     160  1944   f"
      ]
     },
     "execution_count": 4,
     "metadata": {},
     "output_type": "execute_result"
    }
   ],
   "source": [
    "df.head()"
   ]
  },
  {
   "cell_type": "markdown",
   "metadata": {},
   "source": [
    "### Clean the data\n",
    "First we identify and drop rows whic have null values in the `Given Name` column"
   ]
  },
  {
   "cell_type": "code",
   "execution_count": 5,
   "metadata": {},
   "outputs": [
    {
     "data": {
      "text/plain": [
       "1"
      ]
     },
     "execution_count": 5,
     "metadata": {},
     "output_type": "execute_result"
    }
   ],
   "source": [
    "df['Given Name'].isnull().sum()"
   ]
  },
  {
   "cell_type": "code",
   "execution_count": 6,
   "metadata": {
    "scrolled": true
   },
   "outputs": [
    {
     "data": {
      "text/html": [
       "<div>\n",
       "<style>\n",
       "    .dataframe thead tr:only-child th {\n",
       "        text-align: right;\n",
       "    }\n",
       "\n",
       "    .dataframe thead th {\n",
       "        text-align: left;\n",
       "    }\n",
       "\n",
       "    .dataframe tbody tr th {\n",
       "        vertical-align: top;\n",
       "    }\n",
       "</style>\n",
       "<table border=\"1\" class=\"dataframe\">\n",
       "  <thead>\n",
       "    <tr style=\"text-align: right;\">\n",
       "      <th></th>\n",
       "      <th>Given Name</th>\n",
       "      <th>Amount</th>\n",
       "      <th>year</th>\n",
       "      <th>sex</th>\n",
       "    </tr>\n",
       "  </thead>\n",
       "  <tbody>\n",
       "    <tr>\n",
       "      <th>58731</th>\n",
       "      <td>NaN</td>\n",
       "      <td>1</td>\n",
       "      <td>1985</td>\n",
       "      <td>f</td>\n",
       "    </tr>\n",
       "  </tbody>\n",
       "</table>\n",
       "</div>"
      ],
      "text/plain": [
       "      Given Name  Amount  year sex\n",
       "58731        NaN       1  1985   f"
      ]
     },
     "execution_count": 6,
     "metadata": {},
     "output_type": "execute_result"
    }
   ],
   "source": [
    "df[df['Given Name'].isnull()]"
   ]
  },
  {
   "cell_type": "code",
   "execution_count": 7,
   "metadata": {},
   "outputs": [
    {
     "data": {
      "text/html": [
       "<div>\n",
       "<style>\n",
       "    .dataframe thead tr:only-child th {\n",
       "        text-align: right;\n",
       "    }\n",
       "\n",
       "    .dataframe thead th {\n",
       "        text-align: left;\n",
       "    }\n",
       "\n",
       "    .dataframe tbody tr th {\n",
       "        vertical-align: top;\n",
       "    }\n",
       "</style>\n",
       "<table border=\"1\" class=\"dataframe\">\n",
       "  <thead>\n",
       "    <tr style=\"text-align: right;\">\n",
       "      <th></th>\n",
       "      <th>Given Name</th>\n",
       "      <th>Amount</th>\n",
       "      <th>year</th>\n",
       "      <th>sex</th>\n",
       "    </tr>\n",
       "  </thead>\n",
       "  <tbody>\n",
       "    <tr>\n",
       "      <th>58730</th>\n",
       "      <td>MYRA</td>\n",
       "      <td>1</td>\n",
       "      <td>1985</td>\n",
       "      <td>f</td>\n",
       "    </tr>\n",
       "    <tr>\n",
       "      <th>58731</th>\n",
       "      <td>NaN</td>\n",
       "      <td>1</td>\n",
       "      <td>1985</td>\n",
       "      <td>f</td>\n",
       "    </tr>\n",
       "    <tr>\n",
       "      <th>58732</th>\n",
       "      <td>NAARAH</td>\n",
       "      <td>1</td>\n",
       "      <td>1985</td>\n",
       "      <td>f</td>\n",
       "    </tr>\n",
       "  </tbody>\n",
       "</table>\n",
       "</div>"
      ],
      "text/plain": [
       "      Given Name  Amount  year sex\n",
       "58730       MYRA       1  1985   f\n",
       "58731        NaN       1  1985   f\n",
       "58732     NAARAH       1  1985   f"
      ]
     },
     "execution_count": 7,
     "metadata": {},
     "output_type": "execute_result"
    }
   ],
   "source": [
    "df.loc[58730:58732]"
   ]
  },
  {
   "cell_type": "code",
   "execution_count": 8,
   "metadata": {},
   "outputs": [
    {
     "data": {
      "text/plain": [
       "0"
      ]
     },
     "execution_count": 8,
     "metadata": {},
     "output_type": "execute_result"
    }
   ],
   "source": [
    "df.dropna(subset=['Given Name'],inplace=True)\n",
    "df['Given Name'].isnull().sum()"
   ]
  },
  {
   "cell_type": "markdown",
   "metadata": {},
   "source": [
    "Next we identify duplicated rows on `Given Name` and `year` and sum the amount, results stored in a series."
   ]
  },
  {
   "cell_type": "code",
   "execution_count": 9,
   "metadata": {
    "collapsed": true
   },
   "outputs": [],
   "source": [
    "dups = df[df.duplicated(['Given Name','year','sex'],keep=False)].groupby(['Given Name','year','sex']).Amount.sum()"
   ]
  },
  {
   "cell_type": "markdown",
   "metadata": {},
   "source": [
    "Convert the series into a new dataframe."
   ]
  },
  {
   "cell_type": "code",
   "execution_count": 10,
   "metadata": {
    "collapsed": true
   },
   "outputs": [],
   "source": [
    "df_dup = dups.to_frame()"
   ]
  },
  {
   "cell_type": "code",
   "execution_count": 11,
   "metadata": {},
   "outputs": [
    {
     "data": {
      "text/html": [
       "<div>\n",
       "<style>\n",
       "    .dataframe thead tr:only-child th {\n",
       "        text-align: right;\n",
       "    }\n",
       "\n",
       "    .dataframe thead th {\n",
       "        text-align: left;\n",
       "    }\n",
       "\n",
       "    .dataframe tbody tr th {\n",
       "        vertical-align: top;\n",
       "    }\n",
       "</style>\n",
       "<table border=\"1\" class=\"dataframe\">\n",
       "  <thead>\n",
       "    <tr style=\"text-align: right;\">\n",
       "      <th></th>\n",
       "      <th></th>\n",
       "      <th></th>\n",
       "      <th>Amount</th>\n",
       "    </tr>\n",
       "    <tr>\n",
       "      <th>Given Name</th>\n",
       "      <th>year</th>\n",
       "      <th>sex</th>\n",
       "      <th></th>\n",
       "    </tr>\n",
       "  </thead>\n",
       "  <tbody>\n",
       "    <tr>\n",
       "      <th>(NOT</th>\n",
       "      <th>1968</th>\n",
       "      <th>m</th>\n",
       "      <td>4</td>\n",
       "    </tr>\n",
       "    <tr>\n",
       "      <th rowspan=\"4\" valign=\"top\">AARON</th>\n",
       "      <th>1963</th>\n",
       "      <th>m</th>\n",
       "      <td>8</td>\n",
       "    </tr>\n",
       "    <tr>\n",
       "      <th>1968</th>\n",
       "      <th>m</th>\n",
       "      <td>21</td>\n",
       "    </tr>\n",
       "    <tr>\n",
       "      <th>1969</th>\n",
       "      <th>m</th>\n",
       "      <td>10</td>\n",
       "    </tr>\n",
       "    <tr>\n",
       "      <th>1970</th>\n",
       "      <th>m</th>\n",
       "      <td>31</td>\n",
       "    </tr>\n",
       "  </tbody>\n",
       "</table>\n",
       "</div>"
      ],
      "text/plain": [
       "                     Amount\n",
       "Given Name year sex        \n",
       "(NOT       1968 m         4\n",
       "AARON      1963 m         8\n",
       "           1968 m        21\n",
       "           1969 m        10\n",
       "           1970 m        31"
      ]
     },
     "execution_count": 11,
     "metadata": {},
     "output_type": "execute_result"
    }
   ],
   "source": [
    "df_dup.head()"
   ]
  },
  {
   "cell_type": "code",
   "execution_count": 12,
   "metadata": {},
   "outputs": [
    {
     "data": {
      "text/plain": [
       "210938"
      ]
     },
     "execution_count": 12,
     "metadata": {},
     "output_type": "execute_result"
    }
   ],
   "source": [
    "df.shape[0]"
   ]
  },
  {
   "cell_type": "code",
   "execution_count": 13,
   "metadata": {},
   "outputs": [
    {
     "data": {
      "text/plain": [
       "False    206883\n",
       "True       4055\n",
       "dtype: int64"
      ]
     },
     "execution_count": 13,
     "metadata": {},
     "output_type": "execute_result"
    }
   ],
   "source": [
    "df.duplicated(['Given Name','year','sex'],keep=False).value_counts()"
   ]
  },
  {
   "cell_type": "markdown",
   "metadata": {},
   "source": [
    "We drop duplicates in our original dataframe, keeping only one occurrence."
   ]
  },
  {
   "cell_type": "code",
   "execution_count": 14,
   "metadata": {
    "collapsed": true
   },
   "outputs": [],
   "source": [
    "#drop duplicates keep first occurrence only\n",
    "df.drop_duplicates(['Given Name','year','sex'],inplace=True) "
   ]
  },
  {
   "cell_type": "code",
   "execution_count": 15,
   "metadata": {},
   "outputs": [
    {
     "data": {
      "text/plain": [
       "False    208910\n",
       "dtype: int64"
      ]
     },
     "execution_count": 15,
     "metadata": {},
     "output_type": "execute_result"
    }
   ],
   "source": [
    "df.duplicated(['Given Name','year','sex'],keep=False).value_counts()"
   ]
  },
  {
   "cell_type": "markdown",
   "metadata": {},
   "source": [
    "Convert index into columns so we can easily merge."
   ]
  },
  {
   "cell_type": "code",
   "execution_count": 16,
   "metadata": {},
   "outputs": [
    {
     "data": {
      "text/html": [
       "<div>\n",
       "<style>\n",
       "    .dataframe thead tr:only-child th {\n",
       "        text-align: right;\n",
       "    }\n",
       "\n",
       "    .dataframe thead th {\n",
       "        text-align: left;\n",
       "    }\n",
       "\n",
       "    .dataframe tbody tr th {\n",
       "        vertical-align: top;\n",
       "    }\n",
       "</style>\n",
       "<table border=\"1\" class=\"dataframe\">\n",
       "  <thead>\n",
       "    <tr style=\"text-align: right;\">\n",
       "      <th></th>\n",
       "      <th>Given Name</th>\n",
       "      <th>year</th>\n",
       "      <th>sex</th>\n",
       "      <th>Amount</th>\n",
       "    </tr>\n",
       "  </thead>\n",
       "  <tbody>\n",
       "    <tr>\n",
       "      <th>0</th>\n",
       "      <td>(NOT</td>\n",
       "      <td>1968</td>\n",
       "      <td>m</td>\n",
       "      <td>4</td>\n",
       "    </tr>\n",
       "    <tr>\n",
       "      <th>1</th>\n",
       "      <td>AARON</td>\n",
       "      <td>1963</td>\n",
       "      <td>m</td>\n",
       "      <td>8</td>\n",
       "    </tr>\n",
       "    <tr>\n",
       "      <th>2</th>\n",
       "      <td>AARON</td>\n",
       "      <td>1968</td>\n",
       "      <td>m</td>\n",
       "      <td>21</td>\n",
       "    </tr>\n",
       "    <tr>\n",
       "      <th>3</th>\n",
       "      <td>AARON</td>\n",
       "      <td>1969</td>\n",
       "      <td>m</td>\n",
       "      <td>10</td>\n",
       "    </tr>\n",
       "    <tr>\n",
       "      <th>4</th>\n",
       "      <td>AARON</td>\n",
       "      <td>1970</td>\n",
       "      <td>m</td>\n",
       "      <td>31</td>\n",
       "    </tr>\n",
       "  </tbody>\n",
       "</table>\n",
       "</div>"
      ],
      "text/plain": [
       "  Given Name  year sex  Amount\n",
       "0       (NOT  1968   m       4\n",
       "1      AARON  1963   m       8\n",
       "2      AARON  1968   m      21\n",
       "3      AARON  1969   m      10\n",
       "4      AARON  1970   m      31"
      ]
     },
     "execution_count": 16,
     "metadata": {},
     "output_type": "execute_result"
    }
   ],
   "source": [
    "df_dup.reset_index(level=['Given Name', 'year','sex'], inplace=True) #convert index into columns\n",
    "df_dup.head()"
   ]
  },
  {
   "cell_type": "markdown",
   "metadata": {},
   "source": [
    "Merge the new dataframe `Amount` value into our original dataframe using `Given Name` and `year` as the key.<br>\n",
    "This should give us the sum amount in a new column."
   ]
  },
  {
   "cell_type": "code",
   "execution_count": 17,
   "metadata": {
    "collapsed": true,
    "scrolled": true
   },
   "outputs": [],
   "source": [
    "df2 = pd.merge(df, df_dup, on=['Given Name','year','sex'], how='left') #like a SQL left join"
   ]
  },
  {
   "cell_type": "code",
   "execution_count": 18,
   "metadata": {},
   "outputs": [
    {
     "data": {
      "text/html": [
       "<div>\n",
       "<style>\n",
       "    .dataframe thead tr:only-child th {\n",
       "        text-align: right;\n",
       "    }\n",
       "\n",
       "    .dataframe thead th {\n",
       "        text-align: left;\n",
       "    }\n",
       "\n",
       "    .dataframe tbody tr th {\n",
       "        vertical-align: top;\n",
       "    }\n",
       "</style>\n",
       "<table border=\"1\" class=\"dataframe\">\n",
       "  <thead>\n",
       "    <tr style=\"text-align: right;\">\n",
       "      <th></th>\n",
       "      <th>Given Name</th>\n",
       "      <th>Amount_x</th>\n",
       "      <th>year</th>\n",
       "      <th>sex</th>\n",
       "      <th>Amount_y</th>\n",
       "    </tr>\n",
       "  </thead>\n",
       "  <tbody>\n",
       "    <tr>\n",
       "      <th>0</th>\n",
       "      <td>MARGARET</td>\n",
       "      <td>341</td>\n",
       "      <td>1944</td>\n",
       "      <td>f</td>\n",
       "      <td>NaN</td>\n",
       "    </tr>\n",
       "    <tr>\n",
       "      <th>1</th>\n",
       "      <td>HELEN</td>\n",
       "      <td>209</td>\n",
       "      <td>1944</td>\n",
       "      <td>f</td>\n",
       "      <td>NaN</td>\n",
       "    </tr>\n",
       "    <tr>\n",
       "      <th>2</th>\n",
       "      <td>JUDITH</td>\n",
       "      <td>189</td>\n",
       "      <td>1944</td>\n",
       "      <td>f</td>\n",
       "      <td>NaN</td>\n",
       "    </tr>\n",
       "    <tr>\n",
       "      <th>3</th>\n",
       "      <td>PATRICIA</td>\n",
       "      <td>186</td>\n",
       "      <td>1944</td>\n",
       "      <td>f</td>\n",
       "      <td>NaN</td>\n",
       "    </tr>\n",
       "    <tr>\n",
       "      <th>4</th>\n",
       "      <td>PAMELA</td>\n",
       "      <td>160</td>\n",
       "      <td>1944</td>\n",
       "      <td>f</td>\n",
       "      <td>NaN</td>\n",
       "    </tr>\n",
       "  </tbody>\n",
       "</table>\n",
       "</div>"
      ],
      "text/plain": [
       "  Given Name  Amount_x  year sex  Amount_y\n",
       "0   MARGARET       341  1944   f       NaN\n",
       "1      HELEN       209  1944   f       NaN\n",
       "2     JUDITH       189  1944   f       NaN\n",
       "3   PATRICIA       186  1944   f       NaN\n",
       "4     PAMELA       160  1944   f       NaN"
      ]
     },
     "execution_count": 18,
     "metadata": {},
     "output_type": "execute_result"
    }
   ],
   "source": [
    "df2.head()"
   ]
  },
  {
   "cell_type": "code",
   "execution_count": 19,
   "metadata": {},
   "outputs": [
    {
     "data": {
      "text/plain": [
       "208910"
      ]
     },
     "execution_count": 19,
     "metadata": {},
     "output_type": "execute_result"
    }
   ],
   "source": [
    "df2.shape[0]"
   ]
  },
  {
   "cell_type": "markdown",
   "metadata": {},
   "source": [
    "We are going to use `Amount_y` as our amount column, so we fill all the NaN with the value from the `Amount_x` column."
   ]
  },
  {
   "cell_type": "code",
   "execution_count": 20,
   "metadata": {
    "collapsed": true
   },
   "outputs": [],
   "source": [
    "#this is like an if then assign to specific column\n",
    "df2.loc[df2.Amount_y.isnull(), 'Amount_y'] = df2['Amount_x']"
   ]
  },
  {
   "cell_type": "code",
   "execution_count": 21,
   "metadata": {},
   "outputs": [
    {
     "data": {
      "text/html": [
       "<div>\n",
       "<style>\n",
       "    .dataframe thead tr:only-child th {\n",
       "        text-align: right;\n",
       "    }\n",
       "\n",
       "    .dataframe thead th {\n",
       "        text-align: left;\n",
       "    }\n",
       "\n",
       "    .dataframe tbody tr th {\n",
       "        vertical-align: top;\n",
       "    }\n",
       "</style>\n",
       "<table border=\"1\" class=\"dataframe\">\n",
       "  <thead>\n",
       "    <tr style=\"text-align: right;\">\n",
       "      <th></th>\n",
       "      <th>Given Name</th>\n",
       "      <th>Amount_x</th>\n",
       "      <th>year</th>\n",
       "      <th>sex</th>\n",
       "      <th>Amount_y</th>\n",
       "    </tr>\n",
       "  </thead>\n",
       "  <tbody>\n",
       "    <tr>\n",
       "      <th>0</th>\n",
       "      <td>MARGARET</td>\n",
       "      <td>341</td>\n",
       "      <td>1944</td>\n",
       "      <td>f</td>\n",
       "      <td>341.0</td>\n",
       "    </tr>\n",
       "    <tr>\n",
       "      <th>1</th>\n",
       "      <td>HELEN</td>\n",
       "      <td>209</td>\n",
       "      <td>1944</td>\n",
       "      <td>f</td>\n",
       "      <td>209.0</td>\n",
       "    </tr>\n",
       "    <tr>\n",
       "      <th>2</th>\n",
       "      <td>JUDITH</td>\n",
       "      <td>189</td>\n",
       "      <td>1944</td>\n",
       "      <td>f</td>\n",
       "      <td>189.0</td>\n",
       "    </tr>\n",
       "    <tr>\n",
       "      <th>3</th>\n",
       "      <td>PATRICIA</td>\n",
       "      <td>186</td>\n",
       "      <td>1944</td>\n",
       "      <td>f</td>\n",
       "      <td>186.0</td>\n",
       "    </tr>\n",
       "    <tr>\n",
       "      <th>4</th>\n",
       "      <td>PAMELA</td>\n",
       "      <td>160</td>\n",
       "      <td>1944</td>\n",
       "      <td>f</td>\n",
       "      <td>160.0</td>\n",
       "    </tr>\n",
       "  </tbody>\n",
       "</table>\n",
       "</div>"
      ],
      "text/plain": [
       "  Given Name  Amount_x  year sex  Amount_y\n",
       "0   MARGARET       341  1944   f     341.0\n",
       "1      HELEN       209  1944   f     209.0\n",
       "2     JUDITH       189  1944   f     189.0\n",
       "3   PATRICIA       186  1944   f     186.0\n",
       "4     PAMELA       160  1944   f     160.0"
      ]
     },
     "execution_count": 21,
     "metadata": {},
     "output_type": "execute_result"
    }
   ],
   "source": [
    "df2.head()"
   ]
  },
  {
   "cell_type": "markdown",
   "metadata": {},
   "source": [
    "Drop the `Amount_x` column as we don't need it anymore and change the type of `Amount_y` to an integer.<br>\n",
    "We also need to convert `year` to integer as we will use it for both our labels and our index values."
   ]
  },
  {
   "cell_type": "code",
   "execution_count": 22,
   "metadata": {
    "collapsed": true
   },
   "outputs": [],
   "source": [
    "df2.drop('Amount_x', axis=1, inplace=True)"
   ]
  },
  {
   "cell_type": "code",
   "execution_count": 23,
   "metadata": {},
   "outputs": [
    {
     "data": {
      "text/html": [
       "<div>\n",
       "<style>\n",
       "    .dataframe thead tr:only-child th {\n",
       "        text-align: right;\n",
       "    }\n",
       "\n",
       "    .dataframe thead th {\n",
       "        text-align: left;\n",
       "    }\n",
       "\n",
       "    .dataframe tbody tr th {\n",
       "        vertical-align: top;\n",
       "    }\n",
       "</style>\n",
       "<table border=\"1\" class=\"dataframe\">\n",
       "  <thead>\n",
       "    <tr style=\"text-align: right;\">\n",
       "      <th></th>\n",
       "      <th>Given Name</th>\n",
       "      <th>year</th>\n",
       "      <th>sex</th>\n",
       "      <th>Amount_y</th>\n",
       "    </tr>\n",
       "  </thead>\n",
       "  <tbody>\n",
       "    <tr>\n",
       "      <th>0</th>\n",
       "      <td>MARGARET</td>\n",
       "      <td>1944</td>\n",
       "      <td>f</td>\n",
       "      <td>341</td>\n",
       "    </tr>\n",
       "    <tr>\n",
       "      <th>1</th>\n",
       "      <td>HELEN</td>\n",
       "      <td>1944</td>\n",
       "      <td>f</td>\n",
       "      <td>209</td>\n",
       "    </tr>\n",
       "    <tr>\n",
       "      <th>2</th>\n",
       "      <td>JUDITH</td>\n",
       "      <td>1944</td>\n",
       "      <td>f</td>\n",
       "      <td>189</td>\n",
       "    </tr>\n",
       "    <tr>\n",
       "      <th>3</th>\n",
       "      <td>PATRICIA</td>\n",
       "      <td>1944</td>\n",
       "      <td>f</td>\n",
       "      <td>186</td>\n",
       "    </tr>\n",
       "    <tr>\n",
       "      <th>4</th>\n",
       "      <td>PAMELA</td>\n",
       "      <td>1944</td>\n",
       "      <td>f</td>\n",
       "      <td>160</td>\n",
       "    </tr>\n",
       "  </tbody>\n",
       "</table>\n",
       "</div>"
      ],
      "text/plain": [
       "  Given Name  year sex  Amount_y\n",
       "0   MARGARET  1944   f       341\n",
       "1      HELEN  1944   f       209\n",
       "2     JUDITH  1944   f       189\n",
       "3   PATRICIA  1944   f       186\n",
       "4     PAMELA  1944   f       160"
      ]
     },
     "execution_count": 23,
     "metadata": {},
     "output_type": "execute_result"
    }
   ],
   "source": [
    "df2.Amount_y = df2.Amount_y.astype(int)\n",
    "df2.year = df2.year.astype(int)\n",
    "df2.head()"
   ]
  },
  {
   "cell_type": "markdown",
   "metadata": {},
   "source": [
    "### Explore the data\n",
    "#### 1. Popular names\n",
    "Get a list of all unique years in `year_label`. This will be used for our x-axis labels and index values."
   ]
  },
  {
   "cell_type": "code",
   "execution_count": 24,
   "metadata": {
    "collapsed": true
   },
   "outputs": [],
   "source": [
    "all_years = df2.year.unique()"
   ]
  },
  {
   "cell_type": "markdown",
   "metadata": {},
   "source": [
    "Prepare the data for plotting<br>\n",
    "Change the names to the name you would like to explore.<br>\n",
    "`max_each_year` will be used to display the most popular name for that year"
   ]
  },
  {
   "cell_type": "code",
   "execution_count": 39,
   "metadata": {},
   "outputs": [],
   "source": [
    "#plot takes the index as the x value and uses any numeric column as the y\n",
    "name1 = df2.loc[(df2['Given Name']=='JAMIE') & (df2['sex']=='m')].sort_values('year')\n",
    "name2 = df2.loc[(df2['Given Name']=='MICHAEL') & (df2['sex']=='m')].sort_values('year')\n",
    "max_each_year = df2.loc[df2.groupby('year').Amount_y.idxmax()]\n",
    "max_each_year.reset_index(drop=True, inplace=True) #reset the index"
   ]
  },
  {
   "cell_type": "markdown",
   "metadata": {},
   "source": [
    "Plot the graph"
   ]
  },
  {
   "cell_type": "code",
   "execution_count": 40,
   "metadata": {},
   "outputs": [
    {
     "data": {
      "text/plain": [
       "<matplotlib.legend.Legend at 0xbe04c70>"
      ]
     },
     "execution_count": 40,
     "metadata": {},
     "output_type": "execute_result"
    },
    {
     "data": {
      "image/png": "[encoded data removed]",
      "text/plain": [
       "<matplotlib.figure.Figure at 0xe6d13d0>"
      ]
     },
     "metadata": {},
     "output_type": "display_data"
    }
   ],
   "source": [
    "fig=plt.figure(figsize=(16,8))\n",
    "ax=fig.add_subplot(1,1,1)\n",
    "\n",
    "ax.plot(name1.year, name1.Amount_y)\n",
    "ax.plot(name2.year, name2.Amount_y)\n",
    "ax.plot(max_each_year.year, max_each_year.Amount_y, '.-')\n",
    "\n",
    "ax.set_xticks(all_years)\n",
    "ax.set_xticklabels(all_years, rotation='vertical')\n",
    "ax.set_xlabel('Year')\n",
    "ax.set_ylabel('Amount')\n",
    "ax.set_title('Baby Names (South Australia)')\n",
    "\n",
    "for i, row in max_each_year.iterrows():\n",
    "    if i%2: #plot every other name because graph is too crowded\n",
    "        ax.text(row.year,row.Amount_y,row['Given Name'])\n",
    "\n",
    "ax.legend(labels=(name1.iloc[0,0], name2.iloc[0,0],'Most popular name for the year'))"
   ]
  },
  {
   "cell_type": "markdown",
   "metadata": {},
   "source": [
    "#### 2. Explore least common names<br>\n",
    "Filter by letter, sex and year, to manage number of results returned."
   ]
  },
  {
   "cell_type": "code",
   "execution_count": 27,
   "metadata": {
    "scrolled": false
   },
   "outputs": [
    {
     "data": {
      "text/plain": [
       "array(['AABIGAIL', 'AAHLIA-CLARE', 'AALIVIYAH', 'AALIYAH-ROSE', 'AALYAH',\n",
       "       'AARABI', 'AARIA-JUTTA', 'AARIANA', 'AASINI', 'AAZRA', 'ABAYO',\n",
       "       'ABBEY-JEAN', 'ABBIYANA', 'ABBIYGALE', 'ABEBA', 'ABHIGNYA',\n",
       "       'ABISHKKA', 'ABRIE-MAY', 'ABSITIE', 'ADDELINE', 'ADDISON-LEE',\n",
       "       'ADELIN', 'ADELINDA', 'ADELLE-MARIE', 'ADILYN', 'ADRIARNA',\n",
       "       'ADVIKA', 'AERIS-JAYDE', 'AGNEL', 'AHORANGI', 'AHWAZ', 'AIISHA',\n",
       "       'AILLISH', 'AISLYN', 'AITHNE-ANN', 'AIZAH', 'AJIER', 'AJIYAH',\n",
       "       'AKARI', 'AKITAH', 'AKSHARA', 'AKSHEE', 'AKSHIKA', 'ALAKIER',\n",
       "       'ALANOOD', 'ALATHEA', 'ALAYLA', 'ALAYSHA', 'ALECTRA', 'ALEESHAA',\n",
       "       'ALERAH-ROSE', 'ALIANNAH', 'ALILA', 'ALILIA', 'ALLIARNA', 'ALLIERA',\n",
       "       'ALOFA', 'ALUAK', 'ALWEL', 'ALYRIA', 'AMAHLEE', 'AMAIRA', 'AMARAKA',\n",
       "       'AMARIAH-GRACE', 'AMATH', 'AMBER-GRACE', 'AMELIA-LEA', 'AMELIA-MAE',\n",
       "       'AMIRA-LEE', 'AMIRAH-NHU-Y', 'AMIYAH', 'AMYAH', 'ANAAYA', 'ANAE',\n",
       "       'ANANDI', 'ANASIA', 'ANASTARSIA', 'ANASTASIAH', 'ANASTASIYA',\n",
       "       'ANERI', 'ANGHER', 'ANNABELLE-JANE', 'ANNAMIA', 'ANNELIA',\n",
       "       'ANNEMIEK', 'ANOK', 'AONI', 'APAT', 'APUOT', 'ARAMINA', 'ARCHIES',\n",
       "       'ARIARN', 'ARIEHONOR', 'ARIHANNA', 'ARIJELA', 'ARILY', 'ARMEET',\n",
       "       'ARMELIA', 'AROURA', 'ARY', 'ASHANA', 'ASHANI', 'ASHIYA',\n",
       "       'ASHLEY-ROSE', 'ASHNEET', 'ASHYLA', 'ASIYAH', 'ASJA', 'ASSAL',\n",
       "       'ASSATA', 'ATALIYA', 'ATARA', 'ATTALLIA', 'AUFA', 'AVALIE',\n",
       "       'AVALINA', 'AVEESHA', 'AVIGAYIL', 'AVILA', 'AVIYAH', 'AWALITH',\n",
       "       'AYAMA-HILDEGARD', 'AYLEXII-JADE', 'AYLIRAH-JADE', 'AYSA', 'AZOA',\n",
       "       'AZRAH', \"A'AFF\", \"A'ISHA\", 'AADHARA', 'AAFREEN', 'AALA', 'AALIA',\n",
       "       'AALIYAH-JADE', 'AANIYA', 'AANSHI', 'AAROHI', 'AAYLAH', 'ABBEY-MAE',\n",
       "       'ABEERA', 'ABENY', 'ABISAG', 'ACHOLDIT', 'ADDALYN', 'ADDIYSN',\n",
       "       'ADELIINA', 'ADELLA-LEE', 'ADELYNNE', 'ADHET', 'ADHYA', 'ADIELLA',\n",
       "       'ADISSON', 'ADLEIGH', 'ADRIKA', 'ADUAL', 'AGAPE', 'AGGELIKI',\n",
       "       'AHLAAM', 'AHLEYA', 'AICHA', 'AIMUN', 'AIRLY', 'AISHREET',\n",
       "       'AISSATU', 'AJUNI', 'AKARSHA-JAYDE', 'ALARAJ', 'ALAULA', 'ALBREE',\n",
       "       'ALDEYNA', 'ALENI', 'ALEXIS-ROSE', 'ALEXXIS', 'ALIAA', 'ALIANAH',\n",
       "       'ALIAYHA', 'ALISHBAH', 'ALIYANA', 'ALLEIRA', 'ALLORAH', 'ALLYRAH',\n",
       "       'ALXYS', 'ALYSSA-JAYNE', 'ALYZA', 'AMADEE', 'AMALIE-ROSE',\n",
       "       'AMALIYA', 'AMALLIE', 'AMARA-LEE', 'AMBERA', 'AMEIKA', 'AMILIYA',\n",
       "       'AMITRIS', 'AMITTY', 'AMMALINE', 'AMMARAH', 'ANABIA', 'ANAKA',\n",
       "       'ANAKIE', 'ANAMITRA', 'ANASHID', 'ANATAHLIA', 'ANDELAZIA', 'ANEERA',\n",
       "       'ANEKAH', 'ANGAP', 'ANIYAH', 'ANJLI', 'ANNABELLE-JUSTICE',\n",
       "       'ANNABETH', 'ANNALY', 'ANNIAH-LEE', 'ANNIYA', 'ANNJITH', 'ANSHIKA',\n",
       "       'ANTEARA', 'ANTWYNETTE', 'ANU', 'ANYZA', 'AOIBHEANN', 'APKIRAT',\n",
       "       'APOSTOLIA', 'APREE', 'APUOL', 'AQILAH', 'ARADHYA', 'AREESHA',\n",
       "       'AREZUE', 'ARIELLIEZ', 'ARISTELLA', 'ARIZZA', 'ARLEEAH-J', 'AROHI',\n",
       "       'ASAYAH', 'ASHIMA', 'ASIANAH', 'ASTERIX', \"AURORA'MAY\",\n",
       "       'AUROURAH-LEE', 'AVABELLE', 'AVARA', 'AVIELLE', 'AVINAAZ',\n",
       "       'AVISHKA', 'AYMBER', 'AYSHEH', 'AZALIAH-JOY'], dtype=object)"
      ]
     },
     "execution_count": 27,
     "metadata": {},
     "output_type": "execute_result"
    }
   ],
   "source": [
    "name_counts = df2.groupby('Given Name').Amount_y.sum()\n",
    "#also filter by sex because names can exist for either gender\n",
    "df3 = df2[(df2['Given Name'].str.startswith('A')) & (df2['sex']=='f') & (df2['year']>=2012) & (df2['year']<=2013)]\n",
    "df3[df3['Given Name'].isin(name_counts.index[name_counts == 1])]['Given Name'].unique()"
   ]
  },
  {
   "cell_type": "markdown",
   "metadata": {},
   "source": [
    "#### 3. Explore names that can be used for both sexes\n",
    "Explore the name \"Jamie\" (or another name that can be used for both sexes) and see when the name was used for male and when it was used for female."
   ]
  },
  {
   "cell_type": "code",
   "execution_count": 34,
   "metadata": {},
   "outputs": [
    {
     "data": {
      "text/plain": [
       "sex\n",
       "f    41\n",
       "m    61\n",
       "Name: sex, dtype: int64"
      ]
     },
     "execution_count": 34,
     "metadata": {},
     "output_type": "execute_result"
    }
   ],
   "source": [
    "df4 = df2[df2['Given Name']=='JAMIE']\n",
    "df4.groupby('sex')['sex'].count()"
   ]
  },
  {
   "cell_type": "code",
   "execution_count": 35,
   "metadata": {
    "collapsed": true
   },
   "outputs": [],
   "source": [
    "df4_f = df4[df4['sex']=='f']\n",
    "df4_m = df4[df4['sex']=='m']"
   ]
  },
  {
   "cell_type": "code",
   "execution_count": 36,
   "metadata": {},
   "outputs": [
    {
     "data": {
      "text/html": [
       "<div>\n",
       "<style>\n",
       "    .dataframe thead tr:only-child th {\n",
       "        text-align: right;\n",
       "    }\n",
       "\n",
       "    .dataframe thead th {\n",
       "        text-align: left;\n",
       "    }\n",
       "\n",
       "    .dataframe tbody tr th {\n",
       "        vertical-align: top;\n",
       "    }\n",
       "</style>\n",
       "<table border=\"1\" class=\"dataframe\">\n",
       "  <thead>\n",
       "    <tr style=\"text-align: right;\">\n",
       "      <th></th>\n",
       "      <th>Given Name</th>\n",
       "      <th>year</th>\n",
       "      <th>sex</th>\n",
       "      <th>Amount_y</th>\n",
       "    </tr>\n",
       "  </thead>\n",
       "  <tbody>\n",
       "    <tr>\n",
       "      <th>13300</th>\n",
       "      <td>JAMIE</td>\n",
       "      <td>1957</td>\n",
       "      <td>f</td>\n",
       "      <td>1</td>\n",
       "    </tr>\n",
       "    <tr>\n",
       "      <th>20558</th>\n",
       "      <td>JAMIE</td>\n",
       "      <td>1962</td>\n",
       "      <td>f</td>\n",
       "      <td>1</td>\n",
       "    </tr>\n",
       "    <tr>\n",
       "      <th>26557</th>\n",
       "      <td>JAMIE</td>\n",
       "      <td>1966</td>\n",
       "      <td>f</td>\n",
       "      <td>1</td>\n",
       "    </tr>\n",
       "    <tr>\n",
       "      <th>29641</th>\n",
       "      <td>JAMIE</td>\n",
       "      <td>1968</td>\n",
       "      <td>f</td>\n",
       "      <td>1</td>\n",
       "    </tr>\n",
       "    <tr>\n",
       "      <th>44050</th>\n",
       "      <td>JAMIE</td>\n",
       "      <td>1977</td>\n",
       "      <td>f</td>\n",
       "      <td>4</td>\n",
       "    </tr>\n",
       "  </tbody>\n",
       "</table>\n",
       "</div>"
      ],
      "text/plain": [
       "      Given Name  year sex  Amount_y\n",
       "13300      JAMIE  1957   f         1\n",
       "20558      JAMIE  1962   f         1\n",
       "26557      JAMIE  1966   f         1\n",
       "29641      JAMIE  1968   f         1\n",
       "44050      JAMIE  1977   f         4"
      ]
     },
     "execution_count": 36,
     "metadata": {},
     "output_type": "execute_result"
    }
   ],
   "source": [
    "df4_f.head()"
   ]
  },
  {
   "cell_type": "markdown",
   "metadata": {},
   "source": [
    "Use Seaborn to perform a jointplot (scatterplot)."
   ]
  },
  {
   "cell_type": "code",
   "execution_count": 37,
   "metadata": {},
   "outputs": [
    {
     "data": {
      "text/plain": [
       "<seaborn.axisgrid.JointGrid at 0x45cff50>"
      ]
     },
     "execution_count": 37,
     "metadata": {},
     "output_type": "execute_result"
    },
    {
     "data": {
      "image/png": "[encoded data removed]",
      "text/plain": [
       "<matplotlib.figure.Figure at 0x45cfe10>"
      ]
     },
     "metadata": {},
     "output_type": "display_data"
    }
   ],
   "source": [
    "sns.set_style('ticks')\n",
    "\n",
    "g = sns.jointplot(x=df4_f.year, y=df4_f.Amount_y, data=df4_f, color='r')\n",
    "g.fig.set_size_inches(12,6)\n",
    "g.x = df4_m.year\n",
    "g.y = df4_m.Amount_y\n",
    "\n",
    "g.plot_joint(plt.scatter, marker='x', c='b', s=50)"
   ]
  },
  {
   "cell_type": "markdown",
   "metadata": {},
   "source": [
    "Same data but this time using pointplot."
   ]
  },
  {
   "cell_type": "code",
   "execution_count": 38,
   "metadata": {},
   "outputs": [
    {
     "data": {
      "text/plain": [
       "Text(0.5,1,'\"Jamie\" used for Male and Female')"
      ]
     },
     "execution_count": 38,
     "metadata": {},
     "output_type": "execute_result"
    },
    {
     "data": {
      "image/png": "[encoded data removed]",
      "text/plain": [
       "<matplotlib.figure.Figure at 0xcf80830>"
      ]
     },
     "metadata": {},
     "output_type": "display_data"
    }
   ],
   "source": [
    "f, ax = plt.subplots(1, 1, figsize=(12,6))\n",
    "g = sns.pointplot(ax=ax,x=df4.year,y=df4.Amount_y,data=df4,hue='sex')\n",
    "\n",
    "g.set_xticklabels(all_years, rotation='vertical')\n",
    "g.set_xlabel('Year')\n",
    "g.set_ylabel('Amount')\n",
    "g.set_title('\"Jamie\" used for Male and Female')"
   ]
  },
  {
   "cell_type": "code",
   "execution_count": null,
   "metadata": {
    "collapsed": true
   },
   "outputs": [],
   "source": []
  }
 ],
 "metadata": {
  "kernelspec": {
   "display_name": "Python 3",
   "language": "python",
   "name": "python3"
  },
  "language_info": {
   "codemirror_mode": {
    "name": "ipython",
    "version": 3
   },
   "file_extension": ".py",
   "mimetype": "text/x-python",
   "name": "python",
   "nbconvert_exporter": "python",
   "pygments_lexer": "ipython3",
   "version": "3.6.3"
  }
 },
 "nbformat": 4,
 "nbformat_minor": 2
}
